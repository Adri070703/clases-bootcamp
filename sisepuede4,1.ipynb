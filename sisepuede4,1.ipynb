{
 "cells": [
  {
   "cell_type": "markdown",
   "metadata": {},
   "source": [
    "## Challenge 🐧\n",
    "Crear dos métodos para nuestro animal y ejecutar, debe ser algo específico de ese animal.\n",
    "\n",
    "Ejemplo: \"Cuando hablo, digo X\".\n",
    "Ejemplo: \"Cuando me muevo, hago X\"."
   ]
  },
  {
   "cell_type": "code",
   "execution_count": 4,
   "metadata": {},
   "outputs": [
    {
     "name": "stdout",
     "output_type": "stream",
     "text": [
      "cuando me siendo en peligro ladro\n",
      "cuando estoy feliz muevo mi cola\n"
     ]
    }
   ],
   "source": [
    "class Animal:\n",
    "    especie = 'perro'\n",
    "    def __init__(self, nombre):\n",
    "        self.nombre = nombre\n",
    "    def ladrar(self):\n",
    "        print('cuando me siendo en peligro ladro')\n",
    "    def mover_cola(self):\n",
    "        print('cuando estoy feliz muevo mi cola')\n",
    "perrito = Animal('Carl')\n",
    "perrito.ladrar()\n",
    "perrito.mover_cola()"
   ]
  },
  {
   "cell_type": "code",
   "execution_count": 12,
   "metadata": {},
   "outputs": [
    {
     "name": "stdout",
     "output_type": "stream",
     "text": [
      "Puedo correr rapido\n"
     ]
    }
   ],
   "source": [
    "class Animales:\n",
    "    especie = input('introdusca una especie de animal para que sea su mascota')\n",
    "    def __init__(self, nombre):\n",
    "        self.nombre = nombre\n",
    "    def accion(self,accion):\n",
    "        print(f\"Puedo {accion}\")\n",
    "animal = Animales(input('ingrese nombre para su mascota'))\n",
    "animal.accion(input('que puede hacer'))"
   ]
  },
  {
   "cell_type": "code",
   "execution_count": 17,
   "metadata": {},
   "outputs": [
    {
     "name": "stdout",
     "output_type": "stream",
     "text": [
      "perro\n",
      "<__main__.Animales2 object at 0x7fe6641531f0>\n",
      "Puedo correr\n"
     ]
    }
   ],
   "source": [
    "class Animales2:\n",
    "    especie = input('introdusca una especie de animal para que sea su mascota')\n",
    "    print(especie)\n",
    "    def __init__(self, nombre):\n",
    "        self.nombre = nombre\n",
    "    def accion(self,accion):\n",
    "        print(f\"Puedo {accion}\")\n",
    "animal2 = Animales2(input('ingrese nombre para su mascota'))\n",
    "\n",
    "animal2.accion(input('que puede hacer'))"
   ]
  },
  {
   "cell_type": "markdown",
   "metadata": {},
   "source": [
    "## Challenge 🐧\n",
    "Definir una clase madre que herede a sus clases hijas dos atributos de instancia. Mostrar ambos atributos en pantalla desde los objetos de las clases hijas.\n",
    "\n",
    "Observación: Editar las clases hijas para que no se inicialicen."
   ]
  },
  {
   "cell_type": "code",
   "execution_count": 24,
   "metadata": {},
   "outputs": [
    {
     "name": "stdout",
     "output_type": "stream",
     "text": [
      "soy un perro llamado Jake que pesa 40k con altura de 65cm\n",
      "tengo una mordida es de 1200lbs\n",
      "puedo correr rapido\n"
     ]
    }
   ],
   "source": [
    "class Lobo:\n",
    "    especie = 'lobo'\n",
    "    def __init__(self, nombre, peso, altura):\n",
    "        self.nombre = nombre\n",
    "        self.peso = peso\n",
    "        self.altura = altura\n",
    "    def mordida(self):\n",
    "        print('tengo una mordida es de 1200lbs')\n",
    "lobito = Lobo('Gold', 70, 85)\n",
    "\n",
    "class Perro(Lobo):\n",
    "    def correr(self):\n",
    "        print('puedo correr rapido')\n",
    "perro1 = Perro('Jake', 40, 65)\n",
    "print(f'soy un perro llamado {perro1.nombre} que pesa {perro1.peso}k con altura de {perro1.altura}cm')\n",
    "perro1.mordida()\n",
    "perro1.correr()"
   ]
  },
  {
   "cell_type": "markdown",
   "metadata": {},
   "source": [
    "# Challenge 1 🐧\n",
    "Escribir un programa que cree un diccionario vacío y lo vaya llenado con información sobre una persona (por ejemplo nombre, edad, sexo, teléfono, correo electrónico, etc.) que se le pida al usuario. Cada vez que se añada un nuevo dato debe imprimirse el contenido del diccionario"
   ]
  },
  {
   "cell_type": "code",
   "execution_count": 25,
   "metadata": {},
   "outputs": [
    {
     "name": "stdout",
     "output_type": "stream",
     "text": [
      "{'nombre': 'Adri'}\n",
      "{'nombre': 'Adri', 'edad': '20'}\n",
      "{'nombre': 'Adri', 'edad': '20', 'sexo': 'mujer'}\n",
      "{'nombre': 'Adri', 'edad': '20', 'sexo': 'mujer', 'telefono': '0982449633'}\n",
      "{'nombre': 'Adri', 'edad': '20', 'sexo': 'mujer', 'telefono': '0982449633', 'correo electronico': 'adri@gmail.com'}\n"
     ]
    }
   ],
   "source": [
    "mis_datos = {}\n",
    "\n",
    "mis_datos['nombre'] = input('ingrese su nombre')\n",
    "print(mis_datos)\n",
    "mis_datos['edad'] = input('ingrese su edad')\n",
    "print(mis_datos)\n",
    "mis_datos['sexo'] = input('ingrese su sexo')\n",
    "print(mis_datos)\n",
    "mis_datos['telefono'] = input('ingrese su numero de telefono')\n",
    "print(mis_datos)\n",
    "mis_datos['correo electronico'] = input('ingrese su correo')\n",
    "print(mis_datos)"
   ]
  },
  {
   "cell_type": "code",
   "execution_count": 42,
   "metadata": {},
   "outputs": [
    {
     "name": "stdout",
     "output_type": "stream",
     "text": [
      "{'correo': 'adri@gmial.'}\n",
      "{'correo': 'adri@gmial.', 'sexo': 'femenino'}\n",
      "{'correo': 'adri@gmial.', 'sexo': 'femenino', 'termine': 'termine'}\n",
      "termine\n"
     ]
    }
   ],
   "source": [
    "palabra = 'termine'\n",
    "llave = input('que quiere guardar')\n",
    "valor = input('agregue dentro de el')\n",
    "\n",
    "tus_datos = {}\n",
    "while  palabra != llave:\n",
    "    palabra = 'termine'\n",
    "    llave = input('que quiere guardar')\n",
    "    valor = input('agregue dentro de el')\n",
    "    tus_datos[llave]= valor\n",
    "    print(tus_datos)\n",
    "print('termine')"
   ]
  },
  {
   "cell_type": "markdown",
   "metadata": {},
   "source": [
    "# Challenge 2 🐧\n",
    "Crear una tarjeta personal. El usuario (mediante input) puede elegir:\n",
    "\n",
    "Crear datos nuevos\n",
    "Modificar datos\n",
    "Eliminar datos"
   ]
  },
  {
   "cell_type": "code",
   "execution_count": 51,
   "metadata": {},
   "outputs": [
    {
     "name": "stdout",
     "output_type": "stream",
     "text": [
      "{'nombre': 'adri'}\n",
      "{'nombre': 'adri', 'apellido': 'molinas'}\n",
      "{'nombre': 'adri', 'apellido': 'molinas', 'colegio': 'enc1'}\n",
      "{'nombre': 'catalina', 'apellido': 'molinas', 'colegio': 'enc1'}\n",
      "{'nombre': 'catalina', 'apellido': 'molinas'}\n",
      "gracias por usar\n"
     ]
    }
   ],
   "source": [
    "respuesta = input('desea agregar datos s/n') #se le pregunta al usuario si quiere o no agregar datos al diccionario\n",
    "tarjeta_personal = {} # creamos el diccionario vacio\n",
    "while respuesta == \"s\": #si la respuesta fue 's' continuamos aca\n",
    "    menu = int(input('seleccione una de las tres opciones 1 agregar/2 modificar /3 aliminar/ 4 terminar')) #le preguntamos al usuario que es lo que quiere hacer\n",
    "    if menu == 1: #si la respuesta en menu fue este numero le manda aca\n",
    "       llave1 = input('que quiere guardar') # se le hace la pregunta al usuario\n",
    "       valor2 = input('que quiere guardar dentro')\n",
    "       tarjeta_personal[llave1]= valor2 # aca se van agregando las cosas al diccionario\n",
    "    elif menu == 2: #lo mismo que el 1\n",
    "        llave1 = input('que dato quiere modificar')\n",
    "        valor2 = input('que quiere guardar dentro')\n",
    "        tarjeta_personal[llave1]= valor2\n",
    "    elif menu == 3: #lo mismo\n",
    "        llave1 = input('que quiere eliminar')\n",
    "        del tarjeta_personal[llave1]\n",
    "    elif menu == 4: # si la respuesta fue este ya se terminan las preguntas\n",
    "        print('gracias por usar') #imprimimos el agradecimiento por usar\n",
    "        break #usamos el break para que ya no continue con las preguntas si se utiliza esta opcion\n",
    "    \n",
    "\n",
    "    print(tarjeta_personal) #imprimimos nuestro diccionario"
   ]
  }
 ],
 "metadata": {
  "kernelspec": {
   "display_name": "Python 3",
   "language": "python",
   "name": "python3"
  },
  "language_info": {
   "codemirror_mode": {
    "name": "ipython",
    "version": 3
   },
   "file_extension": ".py",
   "mimetype": "text/x-python",
   "name": "python",
   "nbconvert_exporter": "python",
   "pygments_lexer": "ipython3",
   "version": "3.10.12"
  }
 },
 "nbformat": 4,
 "nbformat_minor": 2
}
