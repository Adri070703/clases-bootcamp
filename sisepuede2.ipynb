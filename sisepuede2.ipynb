{
 "cells": [
  {
   "cell_type": "markdown",
   "metadata": {},
   "source": [
    "### Operadores"
   ]
  },
  {
   "cell_type": "code",
   "execution_count": 6,
   "metadata": {},
   "outputs": [
    {
     "name": "stdout",
     "output_type": "stream",
     "text": [
      "True\n",
      "False\n",
      "el numero es menor\n"
     ]
    }
   ],
   "source": [
    "# Logicos\n",
    "primer_numero = 23\n",
    "segundo_numero = 25\n",
    "menor_que = primer_numero < segundo_numero\n",
    "print(menor_que)\n",
    "\n",
    "mayor_que = primer_numero > segundo_numero\n",
    "print(mayor_que)\n",
    "\n",
    "if menor_que:\n",
    "    print('el numero es menor')\n",
    "elif primer_numero == segundo_numero:\n",
    "    print('los numeros son iguales')\n",
    "else:\n",
    "    print('el numero es mayor')"
   ]
  },
  {
   "cell_type": "code",
   "execution_count": 17,
   "metadata": {},
   "outputs": [
    {
     "name": "stdout",
     "output_type": "stream",
     "text": [
      "True\n"
     ]
    }
   ],
   "source": [
    "# in\n",
    "xd = 'queso'\n",
    "uno = 'e'\n",
    "dos = 'w'\n",
    "xd = uno in xd\n",
    "print(xd)"
   ]
  },
  {
   "cell_type": "markdown",
   "metadata": {},
   "source": [
    "# Challengen 🐧- 20m"
   ]
  },
  {
   "cell_type": "code",
   "execution_count": 10,
   "metadata": {},
   "outputs": [
    {
     "name": "stdout",
     "output_type": "stream",
     "text": [
      "False\n",
      "True\n",
      "True\n",
      "activo laboralmente\n"
     ]
    }
   ],
   "source": [
    "persona_x = 66\n",
    "puede_trabajar = 18\n",
    "no_puede_trabajar = 65\n",
    "menor_que2 = persona_x < puede_trabajar\n",
    "print(menor_que2)\n",
    "\n",
    "mayor_que2 = persona_x > puede_trabajar\n",
    "print(mayor_que2)\n",
    "\n",
    "jubilado2 = persona_x > no_puede_trabajar\n",
    "print(jubilado2)\n",
    "\n",
    "if menor_que2:\n",
    "    print('menor de edad')\n",
    "elif mayor_que2:\n",
    "    print('activo laboralmente')\n",
    "else:\n",
    "    print('jubildo')\n"
   ]
  },
  {
   "cell_type": "code",
   "execution_count": 3,
   "metadata": {},
   "outputs": [
    {
     "name": "stdout",
     "output_type": "stream",
     "text": [
      "jubilado\n"
     ]
    }
   ],
   "source": [
    "edad = 66\n",
    "\n",
    "if edad < 18:\n",
    "    print('menor de edad')\n",
    "elif edad > 65:\n",
    "    print('jubilado')\n",
    "elif edad > 18:\n",
    "    print('activo laboralmente')\n"
   ]
  },
  {
   "cell_type": "markdown",
   "metadata": {},
   "source": [
    "# Challengen 🐧- 20m"
   ]
  },
  {
   "cell_type": "code",
   "execution_count": 51,
   "metadata": {},
   "outputs": [
    {
     "name": "stdout",
     "output_type": "stream",
     "text": [
      "hace 50º\n",
      "Ñamano mba`e!\n"
     ]
    }
   ],
   "source": [
    "temperatura = int(input('cual es la temperatura actual?'))\n",
    "print(f'hace {temperatura}º')\n",
    "\n",
    "if temperatura >= -10 and temperatura <= 18:\n",
    "    print('Fresquete')\n",
    "elif temperatura >= 19 and temperatura <= 30:\n",
    "    print('Calor`i')\n",
    "elif temperatura >= 31 and temperatura <= 45:\n",
    "    print('Hakuuuuuu')\n",
    "else:\n",
    "    print('Ñamano mba`e!')\n"
   ]
  },
  {
   "cell_type": "markdown",
   "metadata": {},
   "source": [
    "### Bucles condicionales"
   ]
  },
  {
   "cell_type": "code",
   "execution_count": 125,
   "metadata": {},
   "outputs": [
    {
     "name": "stdout",
     "output_type": "stream",
     "text": [
      "mari\n",
      "nooo como pico😐\n",
      "chloe diosa\n",
      "claro que es ellaaa\n"
     ]
    }
   ],
   "source": [
    "respuesta = 'chloe diosa'\n",
    "que_da_usuario = input('Ingrese el personaje mas uf de miraculous')\n",
    "print(que_da_usuario)\n",
    "\n",
    "while respuesta != que_da_usuario:\n",
    "    print('nooo como pico😐')\n",
    "    que_da_usuario = input('Ingrese el personaje mas uf de miraculous')\n",
    "    print(que_da_usuario)\n",
    "print('claro que es ellaaa')"
   ]
  },
  {
   "cell_type": "markdown",
   "metadata": {},
   "source": [
    "# Challengen 🐧- 20m"
   ]
  },
  {
   "cell_type": "code",
   "execution_count": 67,
   "metadata": {},
   "outputs": [
    {
     "name": "stdout",
     "output_type": "stream",
     "text": [
      "77\n",
      "Nop 😐\n",
      "80\n",
      "Nop 😐\n",
      "70\n",
      "Nop 😐\n",
      "77\n",
      "Buena!, no sos tan boludo 🫡\n"
     ]
    }
   ],
   "source": [
    "adivina_numero = 77\n",
    "numero_que_pone = int(input('Adivina adivinador >:)'))\n",
    "print(adivina_numero)\n",
    "\n",
    "while adivina_numero != numero_que_pone:\n",
    "    print('Nop 😐')\n",
    "    numero_que_pone = int(input('Adivina adivinador >:)'))\n",
    "    print(numero_que_pone)\n",
    "print('Buena!, no sos tan boludo 🫡')"
   ]
  },
  {
   "cell_type": "code",
   "execution_count": 83,
   "metadata": {},
   "outputs": [
    {
     "name": "stdout",
     "output_type": "stream",
     "text": [
      "patata\n",
      "Buena!, no sos tan boludo 🫡\n"
     ]
    }
   ],
   "source": [
    "adivina_numero = 'patata'\n",
    "numero_que_pone = input('Adivina adivinador >:)')\n",
    "print(adivina_numero)\n",
    "\n",
    "while adivina_numero != numero_que_pone:\n",
    "    print('Nop 😐')\n",
    "    numero_que_pone = input('Adivina adivinador >:)')\n",
    "    print(numero_que_pone)\n",
    "print('Buena!, no sos tan boludo 🫡')"
   ]
  },
  {
   "cell_type": "markdown",
   "metadata": {},
   "source": [
    "### Listas"
   ]
  },
  {
   "cell_type": "code",
   "execution_count": 124,
   "metadata": {},
   "outputs": [
    {
     "name": "stdout",
     "output_type": "stream",
     "text": [
      "['zoro', 'shoto', 'bandit', 'chloe', 'adrian', 'sakura']\n",
      "zoro\n",
      "chloe\n",
      "['zoro', 'shoto', 'bandit', 'chloe', 'adrian', 'sakura', 'marinnete']\n",
      "['zoro', 'shoto', 'bandit', 'chloe', 'plagg', 'sakura', 'marinnete']\n",
      "['zoro', 'shoto', 'bandit', 'chloe', 'plagg', 'marinnete']\n",
      "['zoro', 'shoto', 'chloe', 'plagg', 'marinnete']\n",
      "5\n"
     ]
    }
   ],
   "source": [
    "lista_de_personajes = ['zoro', 'shoto', 'bandit', 'chloe', 'adrian', 'sakura']\n",
    "print(lista_de_personajes)\n",
    "# acceder a un elemento de la lista\n",
    "print(lista_de_personajes[0])\n",
    "print(lista_de_personajes[3])\n",
    "\n",
    "# anhadir un elemento a la lista\n",
    "lista_de_personajes.append('marinnete')\n",
    "print(lista_de_personajes)\n",
    "\n",
    "# modificar un elemento\n",
    "lista_de_personajes[4] = ('plagg')\n",
    "print(lista_de_personajes)\n",
    "\n",
    "# Eliminar un elemento por su valor\n",
    "lista_de_personajes.remove('sakura')\n",
    "print(lista_de_personajes)\n",
    "# Eliminar un elemnto por su posicion\n",
    "lista_de_personajes.pop(2)\n",
    "print(lista_de_personajes)\n",
    "\n",
    "# contar elemento de una lista\n",
    "print(len(lista_de_personajes))"
   ]
  },
  {
   "cell_type": "markdown",
   "metadata": {},
   "source": [
    "# Challengen 🐧- 20m"
   ]
  },
  {
   "cell_type": "code",
   "execution_count": 86,
   "metadata": {},
   "outputs": [
    {
     "name": "stdout",
     "output_type": "stream",
     "text": [
      "['jujutsu', 'one piece', 'naruto', 'steven universe', 'hora de aventura']\n",
      "['jujutsu', 'one piece', 'naruto', 'steven universe', 'hora de aventura', 'bluey']\n",
      "['jujutsu', 'clarence', 'naruto', 'steven universe', 'hora de aventura', 'bluey']\n",
      "['jujutsu', 'clarence', 'steven universe', 'hora de aventura', 'bluey']\n"
     ]
    }
   ],
   "source": [
    "lista_de_series_anime = ['jujutsu', 'one piece', 'naruto', 'steven universe', 'hora de aventura']\n",
    "print(lista_de_series_anime)\n",
    "\n",
    "lista_de_series_anime.append('bluey')\n",
    "print(lista_de_series_anime)\n",
    "\n",
    "lista_de_series_anime[1] = 'clarence'\n",
    "print(lista_de_series_anime)\n",
    "\n",
    "lista_de_series_anime.pop(2)\n",
    "print(lista_de_series_anime)"
   ]
  },
  {
   "cell_type": "markdown",
   "metadata": {},
   "source": [
    "### Bucle FOR (iterativo)"
   ]
  },
  {
   "cell_type": "code",
   "execution_count": 98,
   "metadata": {},
   "outputs": [
    {
     "name": "stdout",
     "output_type": "stream",
     "text": [
      "🐔\n",
      "🐔\n",
      "🐔\n",
      "🐔\n",
      "🐔\n",
      "🐔\n",
      "🐔\n",
      "0\n",
      "3\n",
      "6\n",
      "9\n",
      "12\n",
      "15\n",
      "18\n",
      "🐔\n",
      "👹\n",
      "🎂\n",
      "🐧\n",
      "n\n",
      "i\n",
      "e\n",
      "v\n",
      "e\n",
      "copo\n",
      "copo\n",
      "copo\n",
      "copo\n",
      "copo\n"
     ]
    }
   ],
   "source": [
    "# Recorrer un rango de numero\n",
    "for i in range(7):\n",
    "    print('🐔')\n",
    "\n",
    "# \"\"\n",
    "for numero in range(7):\n",
    "    print(numero * 3)\n",
    "\n",
    "# Recorrer o iterar listas\n",
    "lista_emojis = ['🐔', '👹', '🎂', '🐧']\n",
    "for emojis in lista_emojis:\n",
    "    print(emojis)\n",
    "\n",
    "# Recorrer palabras\n",
    "for letras in 'nieve':\n",
    "    print(letras)\n",
    "# Recorrer palabras\n",
    "for letras in 'nieve':\n",
    "    print('copo')"
   ]
  },
  {
   "cell_type": "markdown",
   "metadata": {},
   "source": [
    "# Challengen 🐧- 20m"
   ]
  },
  {
   "cell_type": "code",
   "execution_count": 91,
   "metadata": {},
   "outputs": [
    {
     "name": "stdout",
     "output_type": "stream",
     "text": [
      "Hello👋 Hello👋 \n",
      "Hello👋 Hello👋 \n",
      "Hello👋 Hello👋 \n",
      "Hello👋 Hello👋 \n",
      "Hello👋 Hello👋 \n",
      "Hello👋 Hello👋 \n",
      "Hello👋 Hello👋 \n",
      "Hello👋 Hello👋 \n",
      "Hello👋 Hello👋 \n",
      "Hello👋 Hello👋 \n"
     ]
    }
   ],
   "source": [
    "for i in range(10):\n",
    "    print('Hello👋' ' ' * 2)"
   ]
  },
  {
   "cell_type": "code",
   "execution_count": 92,
   "metadata": {},
   "outputs": [
    {
     "name": "stdout",
     "output_type": "stream",
     "text": [
      "0\n",
      "2\n",
      "4\n",
      "6\n",
      "8\n",
      "10\n",
      "12\n",
      "14\n",
      "16\n",
      "18\n"
     ]
    }
   ],
   "source": [
    "for numero in range(10):\n",
    "    print(numero * 2)"
   ]
  },
  {
   "cell_type": "markdown",
   "metadata": {},
   "source": [
    "# Challengen 🐧- 20m"
   ]
  },
  {
   "cell_type": "code",
   "execution_count": 116,
   "metadata": {},
   "outputs": [
    {
     "name": "stdout",
     "output_type": "stream",
     "text": [
      "samsung\n",
      "adidas\n",
      "chanel\n"
     ]
    }
   ],
   "source": [
    "lista_marcas = ['samsung', 'adidas', 'nike', 'chanel']\n",
    "for marcas in lista_marcas:\n",
    "    if len(marcas) >= 6:\n",
    "        print(marcas)\n"
   ]
  },
  {
   "cell_type": "code",
   "execution_count": 118,
   "metadata": {},
   "outputs": [
    {
     "name": "stdout",
     "output_type": "stream",
     "text": [
      "zoro\n",
      "shoto\n",
      "bandit\n",
      "chloe\n",
      "adrian\n"
     ]
    }
   ],
   "source": [
    "personajes = ['zoro', 'shoto', 'bandit', 'chloe', 'adrian', 'BMO']\n",
    "for perso in personajes:\n",
    "    if len(perso) >= 4:\n",
    "        print(perso)"
   ]
  }
 ],
 "metadata": {
  "kernelspec": {
   "display_name": "Python 3",
   "language": "python",
   "name": "python3"
  },
  "language_info": {
   "codemirror_mode": {
    "name": "ipython",
    "version": 3
   },
   "file_extension": ".py",
   "mimetype": "text/x-python",
   "name": "python",
   "nbconvert_exporter": "python",
   "pygments_lexer": "ipython3",
   "version": "3.10.12"
  }
 },
 "nbformat": 4,
 "nbformat_minor": 2
}
