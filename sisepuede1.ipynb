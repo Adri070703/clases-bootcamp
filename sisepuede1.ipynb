{
 "cells": [
  {
   "cell_type": "code",
   "execution_count": 2,
   "metadata": {},
   "outputs": [
    {
     "name": "stdout",
     "output_type": "stream",
     "text": [
      "alo xd\n"
     ]
    }
   ],
   "source": [
    "print(\"alo xd\")"
   ]
  },
  {
   "cell_type": "markdown",
   "metadata": {},
   "source": [
    "## Variantes"
   ]
  },
  {
   "cell_type": "code",
   "execution_count": 7,
   "metadata": {},
   "outputs": [
    {
     "name": "stdout",
     "output_type": "stream",
     "text": [
      "Adriana\n"
     ]
    }
   ],
   "source": [
    "nombre = 'Adriana'\n",
    "print(nombre)\n"
   ]
  },
  {
   "cell_type": "markdown",
   "metadata": {},
   "source": [
    "### Tipos de datos"
   ]
  },
  {
   "cell_type": "code",
   "execution_count": null,
   "metadata": {},
   "outputs": [],
   "source": [
    "cantidad_de_productos = 30 #Numero entero -> Integer -> int\n",
    "producto = 'gaseosas' # Texto -> strings -> str\n",
    "precio_USD = 3.99 # Numero decimal -> floating number -> floa\n",
    "esta_abierta = False # Boolean -> bool"
   ]
  },
  {
   "cell_type": "markdown",
   "metadata": {},
   "source": [
    "### Operaciones"
   ]
  },
  {
   "cell_type": "code",
   "execution_count": 16,
   "metadata": {},
   "outputs": [
    {
     "name": "stdout",
     "output_type": "stream",
     "text": [
      "18\n",
      "9\n",
      "140000\n",
      "28000.0\n"
     ]
    }
   ],
   "source": [
    "# Suma\n",
    "cantidad_de_mangas = 11\n",
    "cantidad_de_comics = 7\n",
    "cuanto_compre = cantidad_de_mangas + cantidad_de_comics\n",
    "print(cuanto_compre)\n",
    "# Resta\n",
    "series_vistas = 6\n",
    "series_que_ver = 15\n",
    "series_faltantes = series_que_ver - series_vistas\n",
    "print(series_faltantes)\n",
    "# Multiplicacion\n",
    "carne = 35000\n",
    "comprar = 4 #kilo\n",
    "cuanto_es = carne * comprar\n",
    "print(cuanto_es)\n",
    "# Division\n",
    "personas = 5\n",
    "cuanto_ponen = cuanto_es / personas\n",
    "print(cuanto_ponen)"
   ]
  },
  {
   "cell_type": "markdown",
   "metadata": {},
   "source": [
    "# Challengen 🐧- 15m"
   ]
  },
  {
   "cell_type": "code",
   "execution_count": 18,
   "metadata": {},
   "outputs": [
    {
     "name": "stdout",
     "output_type": "stream",
     "text": [
      "28\n",
      "11\n"
     ]
    }
   ],
   "source": [
    "# Suma\n",
    "cantidad_de_naranjas = 15\n",
    "cantidad_de_manzanas = 13\n",
    "cantidad_de_frutas = cantidad_de_naranjas + cantidad_de_manzanas\n",
    "print(cantidad_de_frutas)\n",
    "\n",
    "# Resta\n",
    "frutas_vendidas = 17\n",
    "frutas_restantes = cantidad_de_frutas - frutas_vendidas\n",
    "print(frutas_restantes)"
   ]
  },
  {
   "cell_type": "markdown",
   "metadata": {},
   "source": [
    "## Concatenacion"
   ]
  },
  {
   "cell_type": "markdown",
   "metadata": {},
   "source": [
    "(juntar texto)"
   ]
  },
  {
   "cell_type": "code",
   "execution_count": 25,
   "metadata": {},
   "outputs": [
    {
     "name": "stdout",
     "output_type": "stream",
     "text": [
      "AdrianaMolinas\n",
      "Adriana Molinas\n",
      "hola, mi nombre es Adriana Molinas\n"
     ]
    }
   ],
   "source": [
    "nombre = 'Adriana'\n",
    "apellido = 'Molinas'\n",
    "print(nombre + apellido)\n",
    "print(nombre + ' ' + apellido)\n",
    "print(f'hola, mi nombre es {nombre} {apellido}')"
   ]
  },
  {
   "cell_type": "markdown",
   "metadata": {},
   "source": [
    "# Challengen 🐧- 15m"
   ]
  },
  {
   "cell_type": "code",
   "execution_count": 26,
   "metadata": {},
   "outputs": [
    {
     "name": "stdout",
     "output_type": "stream",
     "text": [
      "Hola. Me llamo Vanessa Diarte. Mucho Gusto\n"
     ]
    }
   ],
   "source": [
    "nombre = 'Vanessa'\n",
    "apellido = 'Diarte'\n",
    "print(f'Hola. Me llamo {nombre} {apellido}. Mucho Gusto')"
   ]
  },
  {
   "cell_type": "markdown",
   "metadata": {},
   "source": [
    "### Input"
   ]
  },
  {
   "cell_type": "code",
   "execution_count": 27,
   "metadata": {},
   "outputs": [
    {
     "name": "stdout",
     "output_type": "stream",
     "text": [
      "20\n"
     ]
    }
   ],
   "source": [
    "edad_del_usuario = input('ingrese su edad') # solicito al usuario su edad\n",
    "print(edad_del_usuario) # imprimo la edad del usuario"
   ]
  },
  {
   "cell_type": "markdown",
   "metadata": {},
   "source": [
    "# Challengen 🐧- 15m"
   ]
  },
  {
   "cell_type": "code",
   "execution_count": 59,
   "metadata": {},
   "outputs": [
    {
     "name": "stdout",
     "output_type": "stream",
     "text": [
      "2023\n",
      "Hola, tengo 20 anhos y naci en 2003\n"
     ]
    }
   ],
   "source": [
    "edad = int(input('ingrese su edad'))\n",
    "anho_de_nacimiento = int(input('ingrese su anho de nacimiento'))\n",
    "print(edad + anho_de_nacimiento)\n",
    "\n",
    "# Variante\n",
    "edad2 = int(input('ingrese su edad'))\n",
    "anho_de_nacimiento2 = int(input('ingrese su anho de nacimiento'))\n",
    "print(f'Hola, tengo {edad2} anhos y naci en {anho_de_nacimiento2}')"
   ]
  },
  {
   "cell_type": "markdown",
   "metadata": {},
   "source": [
    "### Funciones"
   ]
  },
  {
   "cell_type": "code",
   "execution_count": 42,
   "metadata": {},
   "outputs": [
    {
     "name": "stdout",
     "output_type": "stream",
     "text": [
      "prender el celular/computadora\n",
      "desbloquear\n",
      "entrar en el navegador\n",
      "buscar el lugar de compra\n",
      "encontrar el producto deseado\n",
      "llevarlo al carrito\n",
      "realizar el pago\n",
      "listo!\n"
     ]
    }
   ],
   "source": [
    "def comprar_por_internet ():\n",
    "    print('prender el celular/computadora')\n",
    "    print('desbloquear')\n",
    "    print('entrar en el navegador')\n",
    "    print('buscar el lugar de compra')\n",
    "    print('encontrar el producto deseado')\n",
    "    print('llevarlo al carrito')\n",
    "    print('realizar el pago')\n",
    "    print('listo!')\n",
    "comprar_por_internet()"
   ]
  },
  {
   "cell_type": "markdown",
   "metadata": {},
   "source": [
    "# Challengen 🐧- 15m"
   ]
  },
  {
   "cell_type": "code",
   "execution_count": 41,
   "metadata": {},
   "outputs": [
    {
     "name": "stdout",
     "output_type": "stream",
     "text": [
      "encender el celular\n",
      "desbloquear el celular\n",
      "entrar en la aplicacion que mas nos guste\n",
      "encontrar el video de preferencia\n",
      "entrar en el video\n",
      "disfrutar :)!\n",
      "encender el celular\n",
      "desbloquear el celular\n",
      "entrar en la aplicacion que mas nos guste\n",
      "encontrar el video de preferencia\n",
      "entrar en el video\n",
      "disfrutar :)!\n",
      "encender el celular\n",
      "desbloquear el celular\n",
      "entrar en la aplicacion que mas nos guste\n",
      "encontrar el video de preferencia\n",
      "entrar en el video\n",
      "disfrutar :)!\n"
     ]
    }
   ],
   "source": [
    "def ver_videos ():\n",
    "    print(\"encender el celular\")\n",
    "    print('desbloquear el celular')\n",
    "    print('entrar en la aplicacion que mas nos guste')\n",
    "    print('encontrar el video de preferencia')\n",
    "    print('entrar en el video')\n",
    "    print('disfrutar :)!')\n",
    "ver_videos()\n",
    "ver_videos()\n",
    "ver_videos()"
   ]
  },
  {
   "cell_type": "markdown",
   "metadata": {},
   "source": [
    "### Parametros y argumentos"
   ]
  },
  {
   "cell_type": "code",
   "execution_count": 51,
   "metadata": {},
   "outputs": [
    {
     "name": "stdout",
     "output_type": "stream",
     "text": [
      "Quisiera comprar el manga de Jujutsu Kaisen, el tomo 7\n",
      "Pago en efectivo\n",
      "Quisiera comprar el manga de Shumatsu, el tomo 6\n",
      "Pago en efectivo\n",
      "Quisiera comprar el manga de Dandadan, el tomo 1\n",
      "Pago en efectivo\n"
     ]
    }
   ],
   "source": [
    "def comprar_mangas(titulo, tomo, metodo_de_pago):\n",
    "    print(f'Quisiera comprar el manga de {titulo}, el tomo {tomo}')\n",
    "    print(f'Pago en {metodo_de_pago}')\n",
    "comprar_mangas('Jujutsu Kaisen', 7, 'efectivo')\n",
    "comprar_mangas('Shumatsu', 6, 'efectivo')\n",
    "comprar_mangas('Dandadan', 1, 'efectivo')"
   ]
  },
  {
   "cell_type": "markdown",
   "metadata": {},
   "source": [
    "# Challengen 🐧- 15m"
   ]
  },
  {
   "cell_type": "code",
   "execution_count": 52,
   "metadata": {},
   "outputs": [
    {
     "name": "stdout",
     "output_type": "stream",
     "text": [
      "Pedir un celular de la marca samsung con 128 G de almacenamiento y 6 de memoria ram\n",
      "Pagar en efectivo\n"
     ]
    }
   ],
   "source": [
    "def comprar_celular(marca, almacenamiento, ram, metodo_de_pago):\n",
    "    print(f'Pedir un celular de la marca {marca} con {almacenamiento} G de almacenamiento y {ram} de memoria ram')\n",
    "    print(f'Pagar en {metodo_de_pago}')\n",
    "\n",
    "comprar_celular('samsung', 128, 6, 'efectivo')"
   ]
  },
  {
   "cell_type": "markdown",
   "metadata": {},
   "source": [
    "# Challengen 🐧- 15m"
   ]
  },
  {
   "cell_type": "code",
   "execution_count": 72,
   "metadata": {},
   "outputs": [
    {
     "name": "stdout",
     "output_type": "stream",
     "text": [
      "Hola soy Adri y tengo 20 anhos\n",
      "Hola soy Ana y tengo 33 anhos\n",
      "Hola soy Lucas y tengo 17 anhos\n"
     ]
    }
   ],
   "source": [
    "def necesito_tus_datos(anho_de_nacimiento3, nombre): # crear mi funcion y solicitar los parametros\n",
    "    edad = 2023 - anho_de_nacimiento3 #calcular la edad\n",
    "    print(f'Hola soy {nombre} y tengo {edad} anhos') # imprimir el mensaje\n",
    "\n",
    "anho_de_nacimiento3 = int(input('ingrese su anho de nacimiento'))\n",
    "nombre = input('introdusca nombre')\n",
    "necesito_tus_datos(anho_de_nacimiento3, nombre)\n",
    "necesito_tus_datos(1990, 'Ana')\n",
    "necesito_tus_datos(2006, 'Lucas')"
   ]
  }
 ],
 "metadata": {
  "kernelspec": {
   "display_name": "Python 3",
   "language": "python",
   "name": "python3"
  },
  "language_info": {
   "codemirror_mode": {
    "name": "ipython",
    "version": 3
   },
   "file_extension": ".py",
   "mimetype": "text/x-python",
   "name": "python",
   "nbconvert_exporter": "python",
   "pygments_lexer": "ipython3",
   "version": "3.10.12"
  }
 },
 "nbformat": 4,
 "nbformat_minor": 2
}
