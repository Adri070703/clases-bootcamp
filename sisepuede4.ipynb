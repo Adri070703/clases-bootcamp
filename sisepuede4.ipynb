{
 "cells": [
  {
   "cell_type": "markdown",
   "metadata": {},
   "source": [
    "### Programacion orientada a objetos"
   ]
  },
  {
   "cell_type": "code",
   "execution_count": null,
   "metadata": {},
   "outputs": [],
   "source": []
  },
  {
   "cell_type": "markdown",
   "metadata": {},
   "source": [
    "# Challenge 🐧\n",
    "Crear una clase animales que tenga atributo de clase y de instancia.\n",
    "\n",
    "Atributos de clase: especie.\n",
    "Atributos de instancia: nombre & color\n",
    ".\n",
    "Luego, crear nuevos objetos a partir de las nuevas class. Imprimir el nombre y el color de los animales en una frase.\n",
    "Ejemplo: \"Me llamo {nombre} y soy un ave de color {color}\"."
   ]
  },
  {
   "cell_type": "code",
   "execution_count": 4,
   "metadata": {},
   "outputs": [
    {
     "name": "stdout",
     "output_type": "stream",
     "text": [
      "Me llamo Nat y soy un lobo color gris\n",
      "Me llamo Taylor y soy una loba color rojo\n"
     ]
    }
   ],
   "source": [
    "class Animales:\n",
    "    especie = 'lobo'\n",
    "    def __init__(self, nombre, color):\n",
    "        self.nombre = nombre\n",
    "        self.color = color\n",
    "primer_lobo = Animales('Nat', 'gris')\n",
    "segundo_lobo = Animales('Taylor', 'rojo')\n",
    "\n",
    "print(f'Me llamo {primer_lobo.nombre} y soy un lobo color {primer_lobo.color}')\n",
    "print(f'Me llamo {segundo_lobo.nombre} y soy una loba color {segundo_lobo.color}')"
   ]
  },
  {
   "cell_type": "code",
   "execution_count": 9,
   "metadata": {},
   "outputs": [
    {
     "name": "stdout",
     "output_type": "stream",
     "text": [
      "Mi nombre es Sirius y soy un Lobo color gris. Un gusto\n"
     ]
    }
   ],
   "source": [
    "class Animal:\n",
    "    especie = input('ingrese que especie animal quiere ser')\n",
    "    def __init__(self, nombre, color):\n",
    "        self.nombre = nombre\n",
    "        self.color = color\n",
    "\n",
    "personaje1 = Animal(input('ingrese nombre'), input('color que quiere ser'))\n",
    "\n",
    "print(f'Mi nombre es {personaje1.nombre} y soy un {personaje1.especie} color {personaje1.color}. Un gusto')"
   ]
  }
 ],
 "metadata": {
  "kernelspec": {
   "display_name": "Python 3",
   "language": "python",
   "name": "python3"
  },
  "language_info": {
   "codemirror_mode": {
    "name": "ipython",
    "version": 3
   },
   "file_extension": ".py",
   "mimetype": "text/x-python",
   "name": "python",
   "nbconvert_exporter": "python",
   "pygments_lexer": "ipython3",
   "version": "3.10.12"
  }
 },
 "nbformat": 4,
 "nbformat_minor": 2
}
